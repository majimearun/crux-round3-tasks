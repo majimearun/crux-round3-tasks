{
 "cells": [
  {
   "cell_type": "markdown",
   "metadata": {},
   "source": [
    "# Trial run of custom neural network with a real life dataset\n",
    "\n",
    "Dataset used: [Fraud detection](https://www.kaggle.com/volodymyrgavrysh/fraud-detection-bank-dataset-20k-records-binary)  bank dataset from kaggle"
   ]
  },
  {
   "cell_type": "code",
   "execution_count": 1,
   "metadata": {},
   "outputs": [],
   "source": [
    "# imports\n",
    "\n",
    "import numpy as np\n",
    "\n",
    "import pandas as pd\n",
    "\n",
    "from sklearn.model_selection import train_test_split\n",
    "from sklearn.preprocessing import StandardScaler\n",
    "\n",
    "from model import Sigmoid, Linear, SequentialNN\n",
    "from utils import binary_cross_entropy\n",
    "\n",
    "from sklearn.metrics import classification_report, confusion_matrix, accuracy_score"
   ]
  },
  {
   "cell_type": "markdown",
   "metadata": {},
   "source": [
    "## Getting data ready"
   ]
  },
  {
   "cell_type": "code",
   "execution_count": 2,
   "metadata": {},
   "outputs": [],
   "source": [
    "df = pd.read_csv(r\"./data/fraud_detection_bank_dataset.csv\")\n",
    "df.drop(['Unnamed: 0'], axis=1, inplace = True)"
   ]
  },
  {
   "cell_type": "code",
   "execution_count": 3,
   "metadata": {},
   "outputs": [
    {
     "data": {
      "text/html": [
       "<div>\n",
       "<style scoped>\n",
       "    .dataframe tbody tr th:only-of-type {\n",
       "        vertical-align: middle;\n",
       "    }\n",
       "\n",
       "    .dataframe tbody tr th {\n",
       "        vertical-align: top;\n",
       "    }\n",
       "\n",
       "    .dataframe thead th {\n",
       "        text-align: right;\n",
       "    }\n",
       "</style>\n",
       "<table border=\"1\" class=\"dataframe\">\n",
       "  <thead>\n",
       "    <tr style=\"text-align: right;\">\n",
       "      <th></th>\n",
       "      <th>col_0</th>\n",
       "      <th>col_1</th>\n",
       "      <th>col_2</th>\n",
       "      <th>col_3</th>\n",
       "      <th>col_4</th>\n",
       "      <th>col_5</th>\n",
       "      <th>col_6</th>\n",
       "      <th>col_7</th>\n",
       "      <th>col_8</th>\n",
       "      <th>col_9</th>\n",
       "      <th>...</th>\n",
       "      <th>col_103</th>\n",
       "      <th>col_104</th>\n",
       "      <th>col_105</th>\n",
       "      <th>col_106</th>\n",
       "      <th>col_107</th>\n",
       "      <th>col_108</th>\n",
       "      <th>col_109</th>\n",
       "      <th>col_110</th>\n",
       "      <th>col_111</th>\n",
       "      <th>targets</th>\n",
       "    </tr>\n",
       "  </thead>\n",
       "  <tbody>\n",
       "    <tr>\n",
       "      <th>0</th>\n",
       "      <td>9</td>\n",
       "      <td>1354</td>\n",
       "      <td>0</td>\n",
       "      <td>18</td>\n",
       "      <td>0</td>\n",
       "      <td>1</td>\n",
       "      <td>7</td>\n",
       "      <td>9</td>\n",
       "      <td>0</td>\n",
       "      <td>0</td>\n",
       "      <td>...</td>\n",
       "      <td>0</td>\n",
       "      <td>0</td>\n",
       "      <td>0</td>\n",
       "      <td>1</td>\n",
       "      <td>1</td>\n",
       "      <td>0</td>\n",
       "      <td>0</td>\n",
       "      <td>0</td>\n",
       "      <td>49</td>\n",
       "      <td>1</td>\n",
       "    </tr>\n",
       "    <tr>\n",
       "      <th>1</th>\n",
       "      <td>0</td>\n",
       "      <td>239</td>\n",
       "      <td>0</td>\n",
       "      <td>1</td>\n",
       "      <td>0</td>\n",
       "      <td>1</td>\n",
       "      <td>0</td>\n",
       "      <td>0</td>\n",
       "      <td>0</td>\n",
       "      <td>0</td>\n",
       "      <td>...</td>\n",
       "      <td>0</td>\n",
       "      <td>1</td>\n",
       "      <td>0</td>\n",
       "      <td>0</td>\n",
       "      <td>0</td>\n",
       "      <td>0</td>\n",
       "      <td>0</td>\n",
       "      <td>0</td>\n",
       "      <td>55</td>\n",
       "      <td>1</td>\n",
       "    </tr>\n",
       "    <tr>\n",
       "      <th>2</th>\n",
       "      <td>0</td>\n",
       "      <td>260</td>\n",
       "      <td>0</td>\n",
       "      <td>4</td>\n",
       "      <td>0</td>\n",
       "      <td>3</td>\n",
       "      <td>6</td>\n",
       "      <td>0</td>\n",
       "      <td>0</td>\n",
       "      <td>0</td>\n",
       "      <td>...</td>\n",
       "      <td>0</td>\n",
       "      <td>0</td>\n",
       "      <td>0</td>\n",
       "      <td>1</td>\n",
       "      <td>1</td>\n",
       "      <td>0</td>\n",
       "      <td>0</td>\n",
       "      <td>0</td>\n",
       "      <td>56</td>\n",
       "      <td>1</td>\n",
       "    </tr>\n",
       "    <tr>\n",
       "      <th>3</th>\n",
       "      <td>17</td>\n",
       "      <td>682</td>\n",
       "      <td>0</td>\n",
       "      <td>1</td>\n",
       "      <td>0</td>\n",
       "      <td>0</td>\n",
       "      <td>8</td>\n",
       "      <td>17</td>\n",
       "      <td>0</td>\n",
       "      <td>0</td>\n",
       "      <td>...</td>\n",
       "      <td>0</td>\n",
       "      <td>1</td>\n",
       "      <td>0</td>\n",
       "      <td>1</td>\n",
       "      <td>1</td>\n",
       "      <td>0</td>\n",
       "      <td>0</td>\n",
       "      <td>0</td>\n",
       "      <td>65</td>\n",
       "      <td>1</td>\n",
       "    </tr>\n",
       "    <tr>\n",
       "      <th>4</th>\n",
       "      <td>1</td>\n",
       "      <td>540</td>\n",
       "      <td>0</td>\n",
       "      <td>2</td>\n",
       "      <td>0</td>\n",
       "      <td>1</td>\n",
       "      <td>7</td>\n",
       "      <td>1</td>\n",
       "      <td>0</td>\n",
       "      <td>0</td>\n",
       "      <td>...</td>\n",
       "      <td>0</td>\n",
       "      <td>0</td>\n",
       "      <td>0</td>\n",
       "      <td>1</td>\n",
       "      <td>1</td>\n",
       "      <td>0</td>\n",
       "      <td>0</td>\n",
       "      <td>0</td>\n",
       "      <td>175</td>\n",
       "      <td>1</td>\n",
       "    </tr>\n",
       "  </tbody>\n",
       "</table>\n",
       "<p>5 rows × 113 columns</p>\n",
       "</div>"
      ],
      "text/plain": [
       "   col_0  col_1  col_2  col_3  col_4  col_5  col_6  col_7  col_8  col_9  ...  \\\n",
       "0      9   1354      0     18      0      1      7      9      0      0  ...   \n",
       "1      0    239      0      1      0      1      0      0      0      0  ...   \n",
       "2      0    260      0      4      0      3      6      0      0      0  ...   \n",
       "3     17    682      0      1      0      0      8     17      0      0  ...   \n",
       "4      1    540      0      2      0      1      7      1      0      0  ...   \n",
       "\n",
       "   col_103  col_104  col_105  col_106  col_107  col_108  col_109  col_110  \\\n",
       "0        0        0        0        1        1        0        0        0   \n",
       "1        0        1        0        0        0        0        0        0   \n",
       "2        0        0        0        1        1        0        0        0   \n",
       "3        0        1        0        1        1        0        0        0   \n",
       "4        0        0        0        1        1        0        0        0   \n",
       "\n",
       "   col_111  targets  \n",
       "0       49        1  \n",
       "1       55        1  \n",
       "2       56        1  \n",
       "3       65        1  \n",
       "4      175        1  \n",
       "\n",
       "[5 rows x 113 columns]"
      ]
     },
     "execution_count": 3,
     "metadata": {},
     "output_type": "execute_result"
    }
   ],
   "source": [
    "df.head() # 112 features, hence cant visualize with graphs"
   ]
  },
  {
   "cell_type": "code",
   "execution_count": 4,
   "metadata": {},
   "outputs": [],
   "source": [
    "X = df.iloc[:, :-1].values\n",
    "y = df.iloc[:, -1].values\n",
    "y = y.reshape((len(y), 1))"
   ]
  },
  {
   "cell_type": "code",
   "execution_count": 5,
   "metadata": {},
   "outputs": [
    {
     "name": "stdout",
     "output_type": "stream",
     "text": [
      "X_train shape: (16374, 112)\n",
      "X_test shape: (4094, 112)\n",
      "y_train shape: (16374, 1)\n",
      "y_test shape: (4094, 1)\n"
     ]
    }
   ],
   "source": [
    "X_train, X_test, y_train, y_test = train_test_split(X, y, test_size = 0.2, random_state = 1)\n",
    "print(f\"X_train shape: {X_train.shape}\")\n",
    "print(f\"X_test shape: {X_test.shape}\")\n",
    "print(f\"y_train shape: {y_train.shape}\")\n",
    "print(f\"y_test shape: {y_test.shape}\")"
   ]
  },
  {
   "cell_type": "code",
   "execution_count": 6,
   "metadata": {},
   "outputs": [],
   "source": [
    "sc = StandardScaler()\n",
    "X_train = sc.fit_transform(X_train)\n",
    "X_test = sc.transform(X_test)"
   ]
  },
  {
   "cell_type": "code",
   "execution_count": 7,
   "metadata": {},
   "outputs": [],
   "source": [
    "X_train = X_train.T\n",
    "y_train = y_train.T \n",
    "X_test = X_test.T\n",
    "y_test = y_test.T "
   ]
  },
  {
   "cell_type": "markdown",
   "metadata": {},
   "source": [
    "## Creating our model/network\n",
    "\n",
    "Architechure used:\n",
    "\n",
    "- Input layer (112. i.e, n_features nodes)\n",
    "- Hidden layer 1: Linear + Sigmoid (5 nodes)\n",
    "- Hidden layer 2: Linear + sigmoid (3 nodes)\n",
    "- Output layer: Linear + sigmoid (1 node)"
   ]
  },
  {
   "cell_type": "code",
   "execution_count": 8,
   "metadata": {},
   "outputs": [],
   "source": [
    "# define training constants\n",
    "learning_rate = 0.1\n",
    "number_of_epochs = 10000\n",
    "\n",
    "# setting seed for reproducible results\n",
    "np.random.seed(100) "
   ]
  },
  {
   "cell_type": "code",
   "execution_count": 9,
   "metadata": {},
   "outputs": [],
   "source": [
    "model = SequentialNN()\n",
    "\n",
    "# layer 1\n",
    "Z1 = Linear(input_shape=X_train.shape, n_out=5, method='xavier')\n",
    "S1 = Sigmoid(Z1.z.shape)\n",
    "model.add(Z1)\n",
    "model.add(S1)"
   ]
  },
  {
   "cell_type": "code",
   "execution_count": 10,
   "metadata": {},
   "outputs": [],
   "source": [
    "# layer 2\n",
    "Z2= Linear(input_shape=S1.sig.shape, n_out= 3, method='norm_xavier')\n",
    "S2= Sigmoid(Z2.z.shape)\n",
    "model.add(Z2)\n",
    "model.add(S2)"
   ]
  },
  {
   "cell_type": "code",
   "execution_count": 11,
   "metadata": {},
   "outputs": [],
   "source": [
    "# output layer\n",
    "Z3= Linear(input_shape=S2.sig.shape, n_out=1, method='norm_xavier')\n",
    "S3= Sigmoid(Z3.z.shape)\n",
    "model.add(Z3)\n",
    "model.add(S3)"
   ]
  },
  {
   "cell_type": "code",
   "execution_count": 12,
   "metadata": {},
   "outputs": [],
   "source": [
    "model.compile(cost_func=binary_cross_entropy, epochs=number_of_epochs, learning_rate=learning_rate)"
   ]
  },
  {
   "cell_type": "code",
   "execution_count": 13,
   "metadata": {},
   "outputs": [
    {
     "name": "stdout",
     "output_type": "stream",
     "text": [
      "epoch 0: cost = 1.1351353195619127\n",
      "epoch 100: cost = 0.4626866301581009\n",
      "epoch 200: cost = 0.4062156043617507\n",
      "epoch 300: cost = 0.3676288114482234\n",
      "epoch 400: cost = 0.3411057113157241\n",
      "epoch 500: cost = 0.32263868819317376\n",
      "epoch 600: cost = 0.30949348124673753\n",
      "epoch 700: cost = 0.2998212414224082\n",
      "epoch 800: cost = 0.29236419635135896\n",
      "epoch 900: cost = 0.28631209203755964\n",
      "epoch 1000: cost = 0.28121738149095116\n",
      "epoch 1100: cost = 0.27682066509955905\n",
      "epoch 1200: cost = 0.27293625998637344\n",
      "epoch 1300: cost = 0.26936885392347815\n",
      "epoch 1400: cost = 0.2661761513509777\n",
      "epoch 1500: cost = 0.26326892428142207\n",
      "epoch 1600: cost = 0.26061088310503294\n",
      "epoch 1700: cost = 0.2581516396896799\n",
      "epoch 1800: cost = 0.2558533072420329\n",
      "epoch 1900: cost = 0.2537179371516241\n",
      "epoch 2000: cost = 0.2517573025535986\n",
      "epoch 2100: cost = 0.2499634390718284\n",
      "epoch 2200: cost = 0.24831572417996464\n",
      "epoch 2300: cost = 0.24678758498609418\n",
      "epoch 2400: cost = 0.24533587853770134\n",
      "epoch 2500: cost = 0.243905572838767\n",
      "epoch 2600: cost = 0.24263464470016913\n",
      "epoch 2700: cost = 0.24144737867274044\n",
      "epoch 2800: cost = 0.24031904819047734\n",
      "epoch 2900: cost = 0.23920732544241488\n",
      "epoch 3000: cost = 0.23807750606700379\n",
      "epoch 3100: cost = 0.23697917945339678\n",
      "epoch 3200: cost = 0.23588217694357536\n",
      "epoch 3300: cost = 0.23493892603193067\n",
      "epoch 3400: cost = 0.23405119492668114\n",
      "epoch 3500: cost = 0.2331941079669168\n",
      "epoch 3600: cost = 0.23236651747264023\n",
      "epoch 3700: cost = 0.2315065271545784\n",
      "epoch 3800: cost = 0.2304597458431953\n",
      "epoch 3900: cost = 0.2295035263059296\n",
      "epoch 4000: cost = 0.22866959236374973\n",
      "epoch 4100: cost = 0.22789834867641864\n",
      "epoch 4200: cost = 0.2271297452342603\n",
      "epoch 4300: cost = 0.2264602826747281\n",
      "epoch 4400: cost = 0.22582164063889648\n",
      "epoch 4500: cost = 0.22520156657549606\n",
      "epoch 4600: cost = 0.22459329685732402\n",
      "epoch 4700: cost = 0.22399257514132329\n",
      "epoch 4800: cost = 0.2233977867720664\n",
      "epoch 4900: cost = 0.2228171702134746\n",
      "epoch 5000: cost = 0.22227748706359693\n",
      "epoch 5100: cost = 0.22177502236976232\n",
      "epoch 5200: cost = 0.22129736928214414\n",
      "epoch 5300: cost = 0.2208385715605495\n",
      "epoch 5400: cost = 0.2203952727613727\n",
      "epoch 5500: cost = 0.21996508364680623\n",
      "epoch 5600: cost = 0.2195461234754748\n",
      "epoch 5700: cost = 0.2191368682260532\n",
      "epoch 5800: cost = 0.21873607294157474\n",
      "epoch 5900: cost = 0.21834270643432452\n",
      "epoch 6000: cost = 0.21795589694456885\n",
      "epoch 6100: cost = 0.21757490607919122\n",
      "epoch 6200: cost = 0.21719914605096358\n",
      "epoch 6300: cost = 0.21682827484184675\n",
      "epoch 6400: cost = 0.21646237141632327\n",
      "epoch 6500: cost = 0.21610180765967507\n",
      "epoch 6600: cost = 0.21574683704953393\n",
      "epoch 6700: cost = 0.21539759487739837\n",
      "epoch 6800: cost = 0.2150541585989287\n",
      "epoch 6900: cost = 0.21471648932811935\n",
      "epoch 7000: cost = 0.2143843853649094\n",
      "epoch 7100: cost = 0.21405747768515337\n",
      "epoch 7200: cost = 0.2137352530008137\n",
      "epoch 7300: cost = 0.21341708905499904\n",
      "epoch 7400: cost = 0.2131022913198886\n",
      "epoch 7500: cost = 0.21279012219384694\n",
      "epoch 7600: cost = 0.21247981325315712\n",
      "epoch 7700: cost = 0.2121705524475839\n",
      "epoch 7800: cost = 0.21186145078590296\n",
      "epoch 7900: cost = 0.21155152766633717\n",
      "epoch 8000: cost = 0.21123979531184622\n",
      "epoch 8100: cost = 0.21092548224759974\n",
      "epoch 8200: cost = 0.21060814737861025\n",
      "epoch 8300: cost = 0.21028631835132058\n",
      "epoch 8400: cost = 0.2099418896714864\n",
      "epoch 8500: cost = 0.20952770622003583\n",
      "epoch 8600: cost = 0.2092114808449229\n",
      "epoch 8700: cost = 0.20891372624090743\n",
      "epoch 8800: cost = 0.2086238573221832\n",
      "epoch 8900: cost = 0.2083392476442878\n",
      "epoch 9000: cost = 0.20805834562743675\n",
      "epoch 9100: cost = 0.20777997038316345\n",
      "epoch 9200: cost = 0.2075030921995965\n",
      "epoch 9300: cost = 0.2072267287072518\n",
      "epoch 9400: cost = 0.20694988960785995\n",
      "epoch 9500: cost = 0.20667155433057047\n",
      "epoch 9600: cost = 0.2063906890807938\n",
      "epoch 9700: cost = 0.20610631967657372\n",
      "epoch 9800: cost = 0.20581766950847974\n",
      "epoch 9900: cost = 0.20552434174065723\n",
      "epoch 9999: cost = 0.2052294819359156\n"
     ]
    }
   ],
   "source": [
    "model.fit(X_train, y_train)"
   ]
  },
  {
   "cell_type": "code",
   "execution_count": 14,
   "metadata": {},
   "outputs": [],
   "source": [
    "p = model.predict(X_test)\n",
    "p = p.flatten()\n",
    "y_test = y_test.flatten()"
   ]
  },
  {
   "cell_type": "code",
   "execution_count": 15,
   "metadata": {},
   "outputs": [
    {
     "name": "stdout",
     "output_type": "stream",
     "text": [
      "              precision    recall  f1-score   support\n",
      "\n",
      "           0       0.94      0.94      0.94      2999\n",
      "           1       0.84      0.84      0.84      1095\n",
      "\n",
      "    accuracy                           0.92      4094\n",
      "   macro avg       0.89      0.89      0.89      4094\n",
      "weighted avg       0.92      0.92      0.92      4094\n",
      "\n"
     ]
    }
   ],
   "source": [
    "# classification report\n",
    "print(classification_report(y_test, p))"
   ]
  },
  {
   "cell_type": "code",
   "execution_count": 16,
   "metadata": {},
   "outputs": [
    {
     "name": "stdout",
     "output_type": "stream",
     "text": [
      "[[2829  170]\n",
      " [ 174  921]]\n"
     ]
    }
   ],
   "source": [
    "# confusion matrix\n",
    "print(confusion_matrix(y_test, p))"
   ]
  },
  {
   "cell_type": "markdown",
   "metadata": {},
   "source": [
    "Therefore there are:\n",
    "1. 2829 true positives,\n",
    "2. 921 true negatives,\n",
    "3. 170 false positives,\n",
    "4. 174 false negatives,\n",
    "\n",
    "predicted by our model"
   ]
  },
  {
   "cell_type": "code",
   "execution_count": 17,
   "metadata": {},
   "outputs": [
    {
     "name": "stdout",
     "output_type": "stream",
     "text": [
      "accuracy of custom neural network is: 91.6%\n"
     ]
    }
   ],
   "source": [
    "# accuracy score\n",
    "print(f\"accuracy of custom neural network is: {(accuracy_score(y_test, p)*100).round(2)}%\")"
   ]
  }
 ],
 "metadata": {
  "interpreter": {
   "hash": "654b84b6672b7891037149db366198ab86794123f64a60635057bdc39f084d16"
  },
  "kernelspec": {
   "display_name": "Python 3.10.2 ('venv': venv)",
   "language": "python",
   "name": "python3"
  },
  "language_info": {
   "codemirror_mode": {
    "name": "ipython",
    "version": 3
   },
   "file_extension": ".py",
   "mimetype": "text/x-python",
   "name": "python",
   "nbconvert_exporter": "python",
   "pygments_lexer": "ipython3",
   "version": "3.10.2"
  },
  "orig_nbformat": 4
 },
 "nbformat": 4,
 "nbformat_minor": 2
}
