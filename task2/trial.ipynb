{
 "cells": [
  {
   "cell_type": "code",
   "execution_count": 1,
   "metadata": {},
   "outputs": [],
   "source": [
    "import numpy as np\n",
    "\n",
    "import pandas as pd\n",
    "\n",
    "import plotly.express as px\n",
    "import plotly.graph_objects as go\n",
    "import plotly.io as pio\n",
    "pio.renderers.default='notebook'\n",
    "\n",
    "from sklearn.model_selection import train_test_split\n",
    "from sklearn.preprocessing import StandardScaler\n",
    "\n",
    "from model import Sigmoid, Linear, SequentialNN\n",
    "from utils import binary_cross_entropy"
   ]
  },
  {
   "cell_type": "code",
   "execution_count": 2,
   "metadata": {},
   "outputs": [],
   "source": [
    "df = pd.read_csv(r\"./data/fraud_detection_bank_dataset.csv\")\n",
    "df.drop(['Unnamed: 0'], axis=1, inplace = True)"
   ]
  },
  {
   "cell_type": "code",
   "execution_count": 3,
   "metadata": {},
   "outputs": [
    {
     "data": {
      "text/html": [
       "<div>\n",
       "<style scoped>\n",
       "    .dataframe tbody tr th:only-of-type {\n",
       "        vertical-align: middle;\n",
       "    }\n",
       "\n",
       "    .dataframe tbody tr th {\n",
       "        vertical-align: top;\n",
       "    }\n",
       "\n",
       "    .dataframe thead th {\n",
       "        text-align: right;\n",
       "    }\n",
       "</style>\n",
       "<table border=\"1\" class=\"dataframe\">\n",
       "  <thead>\n",
       "    <tr style=\"text-align: right;\">\n",
       "      <th></th>\n",
       "      <th>col_0</th>\n",
       "      <th>col_1</th>\n",
       "      <th>col_2</th>\n",
       "      <th>col_3</th>\n",
       "      <th>col_4</th>\n",
       "      <th>col_5</th>\n",
       "      <th>col_6</th>\n",
       "      <th>col_7</th>\n",
       "      <th>col_8</th>\n",
       "      <th>col_9</th>\n",
       "      <th>...</th>\n",
       "      <th>col_103</th>\n",
       "      <th>col_104</th>\n",
       "      <th>col_105</th>\n",
       "      <th>col_106</th>\n",
       "      <th>col_107</th>\n",
       "      <th>col_108</th>\n",
       "      <th>col_109</th>\n",
       "      <th>col_110</th>\n",
       "      <th>col_111</th>\n",
       "      <th>targets</th>\n",
       "    </tr>\n",
       "  </thead>\n",
       "  <tbody>\n",
       "    <tr>\n",
       "      <th>0</th>\n",
       "      <td>9</td>\n",
       "      <td>1354</td>\n",
       "      <td>0</td>\n",
       "      <td>18</td>\n",
       "      <td>0</td>\n",
       "      <td>1</td>\n",
       "      <td>7</td>\n",
       "      <td>9</td>\n",
       "      <td>0</td>\n",
       "      <td>0</td>\n",
       "      <td>...</td>\n",
       "      <td>0</td>\n",
       "      <td>0</td>\n",
       "      <td>0</td>\n",
       "      <td>1</td>\n",
       "      <td>1</td>\n",
       "      <td>0</td>\n",
       "      <td>0</td>\n",
       "      <td>0</td>\n",
       "      <td>49</td>\n",
       "      <td>1</td>\n",
       "    </tr>\n",
       "    <tr>\n",
       "      <th>1</th>\n",
       "      <td>0</td>\n",
       "      <td>239</td>\n",
       "      <td>0</td>\n",
       "      <td>1</td>\n",
       "      <td>0</td>\n",
       "      <td>1</td>\n",
       "      <td>0</td>\n",
       "      <td>0</td>\n",
       "      <td>0</td>\n",
       "      <td>0</td>\n",
       "      <td>...</td>\n",
       "      <td>0</td>\n",
       "      <td>1</td>\n",
       "      <td>0</td>\n",
       "      <td>0</td>\n",
       "      <td>0</td>\n",
       "      <td>0</td>\n",
       "      <td>0</td>\n",
       "      <td>0</td>\n",
       "      <td>55</td>\n",
       "      <td>1</td>\n",
       "    </tr>\n",
       "    <tr>\n",
       "      <th>2</th>\n",
       "      <td>0</td>\n",
       "      <td>260</td>\n",
       "      <td>0</td>\n",
       "      <td>4</td>\n",
       "      <td>0</td>\n",
       "      <td>3</td>\n",
       "      <td>6</td>\n",
       "      <td>0</td>\n",
       "      <td>0</td>\n",
       "      <td>0</td>\n",
       "      <td>...</td>\n",
       "      <td>0</td>\n",
       "      <td>0</td>\n",
       "      <td>0</td>\n",
       "      <td>1</td>\n",
       "      <td>1</td>\n",
       "      <td>0</td>\n",
       "      <td>0</td>\n",
       "      <td>0</td>\n",
       "      <td>56</td>\n",
       "      <td>1</td>\n",
       "    </tr>\n",
       "    <tr>\n",
       "      <th>3</th>\n",
       "      <td>17</td>\n",
       "      <td>682</td>\n",
       "      <td>0</td>\n",
       "      <td>1</td>\n",
       "      <td>0</td>\n",
       "      <td>0</td>\n",
       "      <td>8</td>\n",
       "      <td>17</td>\n",
       "      <td>0</td>\n",
       "      <td>0</td>\n",
       "      <td>...</td>\n",
       "      <td>0</td>\n",
       "      <td>1</td>\n",
       "      <td>0</td>\n",
       "      <td>1</td>\n",
       "      <td>1</td>\n",
       "      <td>0</td>\n",
       "      <td>0</td>\n",
       "      <td>0</td>\n",
       "      <td>65</td>\n",
       "      <td>1</td>\n",
       "    </tr>\n",
       "    <tr>\n",
       "      <th>4</th>\n",
       "      <td>1</td>\n",
       "      <td>540</td>\n",
       "      <td>0</td>\n",
       "      <td>2</td>\n",
       "      <td>0</td>\n",
       "      <td>1</td>\n",
       "      <td>7</td>\n",
       "      <td>1</td>\n",
       "      <td>0</td>\n",
       "      <td>0</td>\n",
       "      <td>...</td>\n",
       "      <td>0</td>\n",
       "      <td>0</td>\n",
       "      <td>0</td>\n",
       "      <td>1</td>\n",
       "      <td>1</td>\n",
       "      <td>0</td>\n",
       "      <td>0</td>\n",
       "      <td>0</td>\n",
       "      <td>175</td>\n",
       "      <td>1</td>\n",
       "    </tr>\n",
       "  </tbody>\n",
       "</table>\n",
       "<p>5 rows × 113 columns</p>\n",
       "</div>"
      ],
      "text/plain": [
       "   col_0  col_1  col_2  col_3  col_4  col_5  col_6  col_7  col_8  col_9  ...  \\\n",
       "0      9   1354      0     18      0      1      7      9      0      0  ...   \n",
       "1      0    239      0      1      0      1      0      0      0      0  ...   \n",
       "2      0    260      0      4      0      3      6      0      0      0  ...   \n",
       "3     17    682      0      1      0      0      8     17      0      0  ...   \n",
       "4      1    540      0      2      0      1      7      1      0      0  ...   \n",
       "\n",
       "   col_103  col_104  col_105  col_106  col_107  col_108  col_109  col_110  \\\n",
       "0        0        0        0        1        1        0        0        0   \n",
       "1        0        1        0        0        0        0        0        0   \n",
       "2        0        0        0        1        1        0        0        0   \n",
       "3        0        1        0        1        1        0        0        0   \n",
       "4        0        0        0        1        1        0        0        0   \n",
       "\n",
       "   col_111  targets  \n",
       "0       49        1  \n",
       "1       55        1  \n",
       "2       56        1  \n",
       "3       65        1  \n",
       "4      175        1  \n",
       "\n",
       "[5 rows x 113 columns]"
      ]
     },
     "execution_count": 3,
     "metadata": {},
     "output_type": "execute_result"
    }
   ],
   "source": [
    "df.head()"
   ]
  },
  {
   "cell_type": "code",
   "execution_count": 4,
   "metadata": {},
   "outputs": [],
   "source": [
    "X = df.iloc[:, :-1].values\n",
    "y = df.iloc[:, -1].values\n",
    "y = y.reshape((len(y), 1))"
   ]
  },
  {
   "cell_type": "code",
   "execution_count": 5,
   "metadata": {},
   "outputs": [
    {
     "name": "stdout",
     "output_type": "stream",
     "text": [
      "X_train shape: (16374, 112)\n",
      "X_test shape: (4094, 112)\n",
      "y_train shape: (16374, 1)\n",
      "y_test shape: (4094, 1)\n"
     ]
    }
   ],
   "source": [
    "X_train, X_test, y_train, y_test = train_test_split(X, y, test_size = 0.2, random_state = 1)\n",
    "print(f\"X_train shape: {X_train.shape}\")\n",
    "print(f\"X_test shape: {X_test.shape}\")\n",
    "print(f\"y_train shape: {y_train.shape}\")\n",
    "print(f\"y_test shape: {y_test.shape}\")"
   ]
  },
  {
   "cell_type": "code",
   "execution_count": 6,
   "metadata": {},
   "outputs": [],
   "source": [
    "sc = StandardScaler()\n",
    "X_train = sc.fit_transform(X_train)\n",
    "X_test = sc.transform(X_test)"
   ]
  },
  {
   "cell_type": "code",
   "execution_count": 7,
   "metadata": {},
   "outputs": [
    {
     "data": {
      "text/plain": [
       "array([[0],\n",
       "       [1],\n",
       "       [1],\n",
       "       [0],\n",
       "       [0]], dtype=int64)"
      ]
     },
     "execution_count": 7,
     "metadata": {},
     "output_type": "execute_result"
    }
   ],
   "source": [
    "y_train[:5]"
   ]
  },
  {
   "cell_type": "code",
   "execution_count": 8,
   "metadata": {},
   "outputs": [],
   "source": [
    "X_train = X_train.T\n",
    "y_train = y_train.T \n",
    "X_test = X_test.T\n",
    "y_test = y_test.T "
   ]
  },
  {
   "cell_type": "code",
   "execution_count": 9,
   "metadata": {},
   "outputs": [
    {
     "data": {
      "text/plain": [
       "(112, 16374)"
      ]
     },
     "execution_count": 9,
     "metadata": {},
     "output_type": "execute_result"
    }
   ],
   "source": [
    "X_train.shape"
   ]
  },
  {
   "cell_type": "code",
   "execution_count": 10,
   "metadata": {},
   "outputs": [],
   "source": [
    "# define training constants\n",
    "learning_rate = 1\n",
    "number_of_epochs = 10000\n",
    "\n",
    "np.random.seed(100) \n",
    "\n",
    "model = SequentialNN()"
   ]
  },
  {
   "cell_type": "code",
   "execution_count": 11,
   "metadata": {},
   "outputs": [
    {
     "name": "stdout",
     "output_type": "stream",
     "text": [
      "(5, 112) (5, 1)\n"
     ]
    }
   ],
   "source": [
    "# layer 1\n",
    "Z1 = Linear(input_shape=X_train.shape, n_out=5, method='xavier')\n",
    "print(Z1.parameters[\"w\"].shape, Z1.parameters[\"b\"].shape)\n",
    "S1 = Sigmoid(Z1.z.shape)\n",
    "model.add(Z1)\n",
    "model.add(S1)"
   ]
  },
  {
   "cell_type": "code",
   "execution_count": 12,
   "metadata": {},
   "outputs": [],
   "source": [
    "# layer 2\n",
    "Z2= Linear(input_shape=S1.sig.shape, n_out= 3, method='norm_xavier')\n",
    "S2= Sigmoid(Z2.z.shape)\n",
    "model.add(Z2)\n",
    "model.add(S2)"
   ]
  },
  {
   "cell_type": "code",
   "execution_count": 13,
   "metadata": {},
   "outputs": [],
   "source": [
    "# output layer\n",
    "Z3= Linear(input_shape=S2.sig.shape, n_out=1, method='norm_xavier')\n",
    "S3= Sigmoid(Z3.z.shape)\n",
    "model.add(Z3)\n",
    "model.add(S3)"
   ]
  },
  {
   "cell_type": "code",
   "execution_count": 14,
   "metadata": {},
   "outputs": [],
   "source": [
    "model.compile(cost_func=binary_cross_entropy, epochs=number_of_epochs, learning_rate=learning_rate)"
   ]
  },
  {
   "cell_type": "code",
   "execution_count": 15,
   "metadata": {},
   "outputs": [
    {
     "name": "stdout",
     "output_type": "stream",
     "text": [
      "epoch 0: cost = 1.1351353195619127\n",
      "epoch 100: cost = 0.28166114526606906\n",
      "epoch 200: cost = 0.2521446244351183\n",
      "epoch 300: cost = 0.23852494128799703\n",
      "epoch 400: cost = 0.22919050724304516\n",
      "epoch 500: cost = 0.22262486130171227\n",
      "epoch 600: cost = 0.21824354827535875\n",
      "epoch 700: cost = 0.21466186769841428\n",
      "epoch 800: cost = 0.21153067279987042\n",
      "epoch 900: cost = 0.20831073135334927\n",
      "epoch 1000: cost = 0.20539570944739058\n",
      "epoch 1100: cost = 0.20239172698130525\n",
      "epoch 1200: cost = 0.19937545837357298\n",
      "epoch 1300: cost = 0.19642975857560455\n",
      "epoch 1400: cost = 0.1936198840693295\n",
      "epoch 1500: cost = 0.191311119984988\n",
      "epoch 1600: cost = 0.1891420581160831\n",
      "epoch 1700: cost = 0.18755400153330049\n",
      "epoch 1800: cost = 0.18624709373939194\n",
      "epoch 1900: cost = 0.18511275507358924\n",
      "epoch 2000: cost = 0.18409962469050853\n",
      "epoch 2100: cost = 0.1831662676397242\n",
      "epoch 2200: cost = 0.18228202509712893\n",
      "epoch 2300: cost = 0.1814339101193856\n",
      "epoch 2400: cost = 0.1806183136326572\n",
      "epoch 2500: cost = 0.179832767496695\n",
      "epoch 2600: cost = 0.1790744729744042\n",
      "epoch 2700: cost = 0.17833999233562461\n",
      "epoch 2800: cost = 0.1776190975126599\n",
      "epoch 2900: cost = 0.1769024547998634\n",
      "epoch 3000: cost = 0.1762070564363183\n",
      "epoch 3100: cost = 0.17554223690699958\n",
      "epoch 3200: cost = 0.17491004076929326\n",
      "epoch 3300: cost = 0.174312459534705\n",
      "epoch 3400: cost = 0.17374884205013777\n",
      "epoch 3500: cost = 0.17310376093201507\n",
      "epoch 3600: cost = 0.17260061807177413\n",
      "epoch 3700: cost = 0.17212633897590984\n",
      "epoch 3800: cost = 0.17169096147141263\n",
      "epoch 3900: cost = 0.17129798526659096\n",
      "epoch 4000: cost = 0.1709361784426501\n",
      "epoch 4100: cost = 0.17059848957739085\n",
      "epoch 4200: cost = 0.17028030589912677\n",
      "epoch 4300: cost = 0.16997397150948274\n",
      "epoch 4400: cost = 0.16968685649858373\n",
      "epoch 4500: cost = 0.16942181926499972\n",
      "epoch 4600: cost = 0.1691733849420066\n",
      "epoch 4700: cost = 0.16893882089636453\n",
      "epoch 4800: cost = 0.16871587747352038\n",
      "epoch 4900: cost = 0.1685032019379396\n",
      "epoch 5000: cost = 0.1683000979174038\n",
      "epoch 5100: cost = 0.1681062478246163\n",
      "epoch 5200: cost = 0.16792144123732036\n",
      "epoch 5300: cost = 0.16774506040103243\n",
      "epoch 5400: cost = 0.16757597643440347\n",
      "epoch 5500: cost = 0.16741268063258796\n",
      "epoch 5600: cost = 0.1672497332947596\n",
      "epoch 5700: cost = 0.16709071268960082\n",
      "epoch 5800: cost = 0.16693085087086554\n",
      "epoch 5900: cost = 0.16675615539589572\n",
      "epoch 6000: cost = 0.16658950448513482\n",
      "epoch 6100: cost = 0.1664149172704474\n",
      "epoch 6200: cost = 0.16619113510199182\n",
      "epoch 6300: cost = 0.16603977156432131\n",
      "epoch 6400: cost = 0.16590508356363182\n",
      "epoch 6500: cost = 0.16749320921116637\n",
      "epoch 6600: cost = 0.16728186018099675\n",
      "epoch 6700: cost = 0.16674938344365203\n",
      "epoch 6800: cost = 0.166496415286365\n",
      "epoch 6900: cost = 0.16626464539667288\n",
      "epoch 7000: cost = 0.16607036967028704\n",
      "epoch 7100: cost = 0.16589479891916994\n",
      "epoch 7200: cost = 0.16573892997103404\n",
      "epoch 7300: cost = 0.16559161502007919\n",
      "epoch 7400: cost = 0.165450473215283\n",
      "epoch 7500: cost = 0.1653101143573576\n",
      "epoch 7600: cost = 0.16517091064431808\n",
      "epoch 7700: cost = 0.16503101968558526\n",
      "epoch 7800: cost = 0.16487061316001544\n",
      "epoch 7900: cost = 0.16474296972606747\n",
      "epoch 8000: cost = 0.16462763896861501\n",
      "epoch 8100: cost = 0.16448273981192305\n",
      "epoch 8200: cost = 0.1643271173490578\n",
      "epoch 8300: cost = 0.16417714941446848\n",
      "epoch 8400: cost = 0.16403657306860045\n",
      "epoch 8500: cost = 0.1639066514154537\n",
      "epoch 8600: cost = 0.1637841705241359\n",
      "epoch 8700: cost = 0.16366103421382744\n",
      "epoch 8800: cost = 0.1635330957415403\n",
      "epoch 8900: cost = 0.16345070620428415\n",
      "epoch 9000: cost = 0.16338525631737827\n",
      "epoch 9100: cost = 0.16330211650796556\n",
      "epoch 9200: cost = 0.1632248135192191\n",
      "epoch 9300: cost = 0.16324704243786867\n",
      "epoch 9400: cost = 0.16299831754749355\n",
      "epoch 9500: cost = 0.1629183473850602\n",
      "epoch 9600: cost = 0.16283991500302125\n",
      "epoch 9700: cost = 0.16275204859872874\n",
      "epoch 9800: cost = 0.16265678144734044\n",
      "epoch 9900: cost = 0.1625674764590209\n",
      "epoch 9999: cost = 0.16247894236783827\n"
     ]
    }
   ],
   "source": [
    "model.fit(X_train, y_train)"
   ]
  },
  {
   "cell_type": "code",
   "execution_count": 23,
   "metadata": {},
   "outputs": [
    {
     "data": {
      "text/plain": [
       "91.40205178309722"
      ]
     },
     "execution_count": 23,
     "metadata": {},
     "output_type": "execute_result"
    }
   ],
   "source": [
    "p = model.predict(X_test)\n",
    "p = p.flatten()\n",
    "y_test = y_test.flatten()\n",
    "accuracy = np.sum((p == y_test))*100/len(list(y_test))\n",
    "accuracy"
   ]
  }
 ],
 "metadata": {
  "interpreter": {
   "hash": "654b84b6672b7891037149db366198ab86794123f64a60635057bdc39f084d16"
  },
  "kernelspec": {
   "display_name": "Python 3.10.2 ('venv': venv)",
   "language": "python",
   "name": "python3"
  },
  "language_info": {
   "codemirror_mode": {
    "name": "ipython",
    "version": 3
   },
   "file_extension": ".py",
   "mimetype": "text/x-python",
   "name": "python",
   "nbconvert_exporter": "python",
   "pygments_lexer": "ipython3",
   "version": "3.10.2"
  },
  "orig_nbformat": 4
 },
 "nbformat": 4,
 "nbformat_minor": 2
}
